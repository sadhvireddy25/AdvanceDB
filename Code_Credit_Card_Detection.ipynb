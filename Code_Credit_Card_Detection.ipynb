{
 "cells": [
  {
   "cell_type": "code",
   "execution_count": 43,
   "id": "b39f1cdd",
   "metadata": {},
   "outputs": [],
   "source": [
    "import pandas as pd\n",
    "import numpy as np"
   ]
  },
  {
   "cell_type": "code",
   "execution_count": 44,
   "id": "dc218c21",
   "metadata": {},
   "outputs": [],
   "source": [
    "data=pd.read_csv(\"creditcard.csv\")"
   ]
  },
  {
   "cell_type": "code",
   "execution_count": 45,
   "id": "4e12d734",
   "metadata": {
    "scrolled": true
   },
   "outputs": [
    {
     "data": {
      "text/html": [
       "<div>\n",
       "<style scoped>\n",
       "    .dataframe tbody tr th:only-of-type {\n",
       "        vertical-align: middle;\n",
       "    }\n",
       "\n",
       "    .dataframe tbody tr th {\n",
       "        vertical-align: top;\n",
       "    }\n",
       "\n",
       "    .dataframe thead th {\n",
       "        text-align: right;\n",
       "    }\n",
       "</style>\n",
       "<table border=\"1\" class=\"dataframe\">\n",
       "  <thead>\n",
       "    <tr style=\"text-align: right;\">\n",
       "      <th></th>\n",
       "      <th>Time</th>\n",
       "      <th>V1</th>\n",
       "      <th>V2</th>\n",
       "      <th>V3</th>\n",
       "      <th>V4</th>\n",
       "      <th>V5</th>\n",
       "      <th>V6</th>\n",
       "      <th>V7</th>\n",
       "      <th>V8</th>\n",
       "      <th>V9</th>\n",
       "      <th>...</th>\n",
       "      <th>V21</th>\n",
       "      <th>V22</th>\n",
       "      <th>V23</th>\n",
       "      <th>V24</th>\n",
       "      <th>V25</th>\n",
       "      <th>V26</th>\n",
       "      <th>V27</th>\n",
       "      <th>V28</th>\n",
       "      <th>Amount</th>\n",
       "      <th>Class</th>\n",
       "    </tr>\n",
       "  </thead>\n",
       "  <tbody>\n",
       "    <tr>\n",
       "      <th>0</th>\n",
       "      <td>0.0</td>\n",
       "      <td>-1.359807</td>\n",
       "      <td>-0.072781</td>\n",
       "      <td>2.536347</td>\n",
       "      <td>1.378155</td>\n",
       "      <td>-0.338321</td>\n",
       "      <td>0.462388</td>\n",
       "      <td>0.239599</td>\n",
       "      <td>0.098698</td>\n",
       "      <td>0.363787</td>\n",
       "      <td>...</td>\n",
       "      <td>-0.018307</td>\n",
       "      <td>0.277838</td>\n",
       "      <td>-0.110474</td>\n",
       "      <td>0.066928</td>\n",
       "      <td>0.128539</td>\n",
       "      <td>-0.189115</td>\n",
       "      <td>0.133558</td>\n",
       "      <td>-0.021053</td>\n",
       "      <td>149.62</td>\n",
       "      <td>0</td>\n",
       "    </tr>\n",
       "    <tr>\n",
       "      <th>1</th>\n",
       "      <td>0.0</td>\n",
       "      <td>1.191857</td>\n",
       "      <td>0.266151</td>\n",
       "      <td>0.166480</td>\n",
       "      <td>0.448154</td>\n",
       "      <td>0.060018</td>\n",
       "      <td>-0.082361</td>\n",
       "      <td>-0.078803</td>\n",
       "      <td>0.085102</td>\n",
       "      <td>-0.255425</td>\n",
       "      <td>...</td>\n",
       "      <td>-0.225775</td>\n",
       "      <td>-0.638672</td>\n",
       "      <td>0.101288</td>\n",
       "      <td>-0.339846</td>\n",
       "      <td>0.167170</td>\n",
       "      <td>0.125895</td>\n",
       "      <td>-0.008983</td>\n",
       "      <td>0.014724</td>\n",
       "      <td>2.69</td>\n",
       "      <td>0</td>\n",
       "    </tr>\n",
       "    <tr>\n",
       "      <th>2</th>\n",
       "      <td>1.0</td>\n",
       "      <td>-1.358354</td>\n",
       "      <td>-1.340163</td>\n",
       "      <td>1.773209</td>\n",
       "      <td>0.379780</td>\n",
       "      <td>-0.503198</td>\n",
       "      <td>1.800499</td>\n",
       "      <td>0.791461</td>\n",
       "      <td>0.247676</td>\n",
       "      <td>-1.514654</td>\n",
       "      <td>...</td>\n",
       "      <td>0.247998</td>\n",
       "      <td>0.771679</td>\n",
       "      <td>0.909412</td>\n",
       "      <td>-0.689281</td>\n",
       "      <td>-0.327642</td>\n",
       "      <td>-0.139097</td>\n",
       "      <td>-0.055353</td>\n",
       "      <td>-0.059752</td>\n",
       "      <td>378.66</td>\n",
       "      <td>0</td>\n",
       "    </tr>\n",
       "    <tr>\n",
       "      <th>3</th>\n",
       "      <td>1.0</td>\n",
       "      <td>-0.966272</td>\n",
       "      <td>-0.185226</td>\n",
       "      <td>1.792993</td>\n",
       "      <td>-0.863291</td>\n",
       "      <td>-0.010309</td>\n",
       "      <td>1.247203</td>\n",
       "      <td>0.237609</td>\n",
       "      <td>0.377436</td>\n",
       "      <td>-1.387024</td>\n",
       "      <td>...</td>\n",
       "      <td>-0.108300</td>\n",
       "      <td>0.005274</td>\n",
       "      <td>-0.190321</td>\n",
       "      <td>-1.175575</td>\n",
       "      <td>0.647376</td>\n",
       "      <td>-0.221929</td>\n",
       "      <td>0.062723</td>\n",
       "      <td>0.061458</td>\n",
       "      <td>123.50</td>\n",
       "      <td>0</td>\n",
       "    </tr>\n",
       "    <tr>\n",
       "      <th>4</th>\n",
       "      <td>2.0</td>\n",
       "      <td>-1.158233</td>\n",
       "      <td>0.877737</td>\n",
       "      <td>1.548718</td>\n",
       "      <td>0.403034</td>\n",
       "      <td>-0.407193</td>\n",
       "      <td>0.095921</td>\n",
       "      <td>0.592941</td>\n",
       "      <td>-0.270533</td>\n",
       "      <td>0.817739</td>\n",
       "      <td>...</td>\n",
       "      <td>-0.009431</td>\n",
       "      <td>0.798278</td>\n",
       "      <td>-0.137458</td>\n",
       "      <td>0.141267</td>\n",
       "      <td>-0.206010</td>\n",
       "      <td>0.502292</td>\n",
       "      <td>0.219422</td>\n",
       "      <td>0.215153</td>\n",
       "      <td>69.99</td>\n",
       "      <td>0</td>\n",
       "    </tr>\n",
       "    <tr>\n",
       "      <th>...</th>\n",
       "      <td>...</td>\n",
       "      <td>...</td>\n",
       "      <td>...</td>\n",
       "      <td>...</td>\n",
       "      <td>...</td>\n",
       "      <td>...</td>\n",
       "      <td>...</td>\n",
       "      <td>...</td>\n",
       "      <td>...</td>\n",
       "      <td>...</td>\n",
       "      <td>...</td>\n",
       "      <td>...</td>\n",
       "      <td>...</td>\n",
       "      <td>...</td>\n",
       "      <td>...</td>\n",
       "      <td>...</td>\n",
       "      <td>...</td>\n",
       "      <td>...</td>\n",
       "      <td>...</td>\n",
       "      <td>...</td>\n",
       "      <td>...</td>\n",
       "    </tr>\n",
       "    <tr>\n",
       "      <th>284802</th>\n",
       "      <td>172786.0</td>\n",
       "      <td>-11.881118</td>\n",
       "      <td>10.071785</td>\n",
       "      <td>-9.834783</td>\n",
       "      <td>-2.066656</td>\n",
       "      <td>-5.364473</td>\n",
       "      <td>-2.606837</td>\n",
       "      <td>-4.918215</td>\n",
       "      <td>7.305334</td>\n",
       "      <td>1.914428</td>\n",
       "      <td>...</td>\n",
       "      <td>0.213454</td>\n",
       "      <td>0.111864</td>\n",
       "      <td>1.014480</td>\n",
       "      <td>-0.509348</td>\n",
       "      <td>1.436807</td>\n",
       "      <td>0.250034</td>\n",
       "      <td>0.943651</td>\n",
       "      <td>0.823731</td>\n",
       "      <td>0.77</td>\n",
       "      <td>0</td>\n",
       "    </tr>\n",
       "    <tr>\n",
       "      <th>284803</th>\n",
       "      <td>172787.0</td>\n",
       "      <td>-0.732789</td>\n",
       "      <td>-0.055080</td>\n",
       "      <td>2.035030</td>\n",
       "      <td>-0.738589</td>\n",
       "      <td>0.868229</td>\n",
       "      <td>1.058415</td>\n",
       "      <td>0.024330</td>\n",
       "      <td>0.294869</td>\n",
       "      <td>0.584800</td>\n",
       "      <td>...</td>\n",
       "      <td>0.214205</td>\n",
       "      <td>0.924384</td>\n",
       "      <td>0.012463</td>\n",
       "      <td>-1.016226</td>\n",
       "      <td>-0.606624</td>\n",
       "      <td>-0.395255</td>\n",
       "      <td>0.068472</td>\n",
       "      <td>-0.053527</td>\n",
       "      <td>24.79</td>\n",
       "      <td>0</td>\n",
       "    </tr>\n",
       "    <tr>\n",
       "      <th>284804</th>\n",
       "      <td>172788.0</td>\n",
       "      <td>1.919565</td>\n",
       "      <td>-0.301254</td>\n",
       "      <td>-3.249640</td>\n",
       "      <td>-0.557828</td>\n",
       "      <td>2.630515</td>\n",
       "      <td>3.031260</td>\n",
       "      <td>-0.296827</td>\n",
       "      <td>0.708417</td>\n",
       "      <td>0.432454</td>\n",
       "      <td>...</td>\n",
       "      <td>0.232045</td>\n",
       "      <td>0.578229</td>\n",
       "      <td>-0.037501</td>\n",
       "      <td>0.640134</td>\n",
       "      <td>0.265745</td>\n",
       "      <td>-0.087371</td>\n",
       "      <td>0.004455</td>\n",
       "      <td>-0.026561</td>\n",
       "      <td>67.88</td>\n",
       "      <td>0</td>\n",
       "    </tr>\n",
       "    <tr>\n",
       "      <th>284805</th>\n",
       "      <td>172788.0</td>\n",
       "      <td>-0.240440</td>\n",
       "      <td>0.530483</td>\n",
       "      <td>0.702510</td>\n",
       "      <td>0.689799</td>\n",
       "      <td>-0.377961</td>\n",
       "      <td>0.623708</td>\n",
       "      <td>-0.686180</td>\n",
       "      <td>0.679145</td>\n",
       "      <td>0.392087</td>\n",
       "      <td>...</td>\n",
       "      <td>0.265245</td>\n",
       "      <td>0.800049</td>\n",
       "      <td>-0.163298</td>\n",
       "      <td>0.123205</td>\n",
       "      <td>-0.569159</td>\n",
       "      <td>0.546668</td>\n",
       "      <td>0.108821</td>\n",
       "      <td>0.104533</td>\n",
       "      <td>10.00</td>\n",
       "      <td>0</td>\n",
       "    </tr>\n",
       "    <tr>\n",
       "      <th>284806</th>\n",
       "      <td>172792.0</td>\n",
       "      <td>-0.533413</td>\n",
       "      <td>-0.189733</td>\n",
       "      <td>0.703337</td>\n",
       "      <td>-0.506271</td>\n",
       "      <td>-0.012546</td>\n",
       "      <td>-0.649617</td>\n",
       "      <td>1.577006</td>\n",
       "      <td>-0.414650</td>\n",
       "      <td>0.486180</td>\n",
       "      <td>...</td>\n",
       "      <td>0.261057</td>\n",
       "      <td>0.643078</td>\n",
       "      <td>0.376777</td>\n",
       "      <td>0.008797</td>\n",
       "      <td>-0.473649</td>\n",
       "      <td>-0.818267</td>\n",
       "      <td>-0.002415</td>\n",
       "      <td>0.013649</td>\n",
       "      <td>217.00</td>\n",
       "      <td>0</td>\n",
       "    </tr>\n",
       "  </tbody>\n",
       "</table>\n",
       "<p>284807 rows × 31 columns</p>\n",
       "</div>"
      ],
      "text/plain": [
       "            Time         V1         V2        V3        V4        V5  \\\n",
       "0            0.0  -1.359807  -0.072781  2.536347  1.378155 -0.338321   \n",
       "1            0.0   1.191857   0.266151  0.166480  0.448154  0.060018   \n",
       "2            1.0  -1.358354  -1.340163  1.773209  0.379780 -0.503198   \n",
       "3            1.0  -0.966272  -0.185226  1.792993 -0.863291 -0.010309   \n",
       "4            2.0  -1.158233   0.877737  1.548718  0.403034 -0.407193   \n",
       "...          ...        ...        ...       ...       ...       ...   \n",
       "284802  172786.0 -11.881118  10.071785 -9.834783 -2.066656 -5.364473   \n",
       "284803  172787.0  -0.732789  -0.055080  2.035030 -0.738589  0.868229   \n",
       "284804  172788.0   1.919565  -0.301254 -3.249640 -0.557828  2.630515   \n",
       "284805  172788.0  -0.240440   0.530483  0.702510  0.689799 -0.377961   \n",
       "284806  172792.0  -0.533413  -0.189733  0.703337 -0.506271 -0.012546   \n",
       "\n",
       "              V6        V7        V8        V9  ...       V21       V22  \\\n",
       "0       0.462388  0.239599  0.098698  0.363787  ... -0.018307  0.277838   \n",
       "1      -0.082361 -0.078803  0.085102 -0.255425  ... -0.225775 -0.638672   \n",
       "2       1.800499  0.791461  0.247676 -1.514654  ...  0.247998  0.771679   \n",
       "3       1.247203  0.237609  0.377436 -1.387024  ... -0.108300  0.005274   \n",
       "4       0.095921  0.592941 -0.270533  0.817739  ... -0.009431  0.798278   \n",
       "...          ...       ...       ...       ...  ...       ...       ...   \n",
       "284802 -2.606837 -4.918215  7.305334  1.914428  ...  0.213454  0.111864   \n",
       "284803  1.058415  0.024330  0.294869  0.584800  ...  0.214205  0.924384   \n",
       "284804  3.031260 -0.296827  0.708417  0.432454  ...  0.232045  0.578229   \n",
       "284805  0.623708 -0.686180  0.679145  0.392087  ...  0.265245  0.800049   \n",
       "284806 -0.649617  1.577006 -0.414650  0.486180  ...  0.261057  0.643078   \n",
       "\n",
       "             V23       V24       V25       V26       V27       V28  Amount  \\\n",
       "0      -0.110474  0.066928  0.128539 -0.189115  0.133558 -0.021053  149.62   \n",
       "1       0.101288 -0.339846  0.167170  0.125895 -0.008983  0.014724    2.69   \n",
       "2       0.909412 -0.689281 -0.327642 -0.139097 -0.055353 -0.059752  378.66   \n",
       "3      -0.190321 -1.175575  0.647376 -0.221929  0.062723  0.061458  123.50   \n",
       "4      -0.137458  0.141267 -0.206010  0.502292  0.219422  0.215153   69.99   \n",
       "...          ...       ...       ...       ...       ...       ...     ...   \n",
       "284802  1.014480 -0.509348  1.436807  0.250034  0.943651  0.823731    0.77   \n",
       "284803  0.012463 -1.016226 -0.606624 -0.395255  0.068472 -0.053527   24.79   \n",
       "284804 -0.037501  0.640134  0.265745 -0.087371  0.004455 -0.026561   67.88   \n",
       "284805 -0.163298  0.123205 -0.569159  0.546668  0.108821  0.104533   10.00   \n",
       "284806  0.376777  0.008797 -0.473649 -0.818267 -0.002415  0.013649  217.00   \n",
       "\n",
       "        Class  \n",
       "0           0  \n",
       "1           0  \n",
       "2           0  \n",
       "3           0  \n",
       "4           0  \n",
       "...       ...  \n",
       "284802      0  \n",
       "284803      0  \n",
       "284804      0  \n",
       "284805      0  \n",
       "284806      0  \n",
       "\n",
       "[284807 rows x 31 columns]"
      ]
     },
     "execution_count": 45,
     "metadata": {},
     "output_type": "execute_result"
    }
   ],
   "source": [
    "data"
   ]
  },
  {
   "cell_type": "code",
   "execution_count": 46,
   "id": "5476b274",
   "metadata": {},
   "outputs": [
    {
     "name": "stdout",
     "output_type": "stream",
     "text": [
      "Dataset Shape:\n",
      "(Samples, features)\n",
      " (284807, 31)\n"
     ]
    }
   ],
   "source": [
    "print(\"Dataset Shape:\\n(Samples, features)\\n\", data.shape)"
   ]
  },
  {
   "cell_type": "code",
   "execution_count": 47,
   "id": "d674513d",
   "metadata": {},
   "outputs": [
    {
     "name": "stdout",
     "output_type": "stream",
     "text": [
      "Total number of Trnsactions are 284807\n",
      "Number of Normal Transactions are 284315\n",
      "Number of fraudulent Transactions are 492\n",
      "Percentage of fraud Transactions is 0.17\n"
     ]
    }
   ],
   "source": [
    "from termcolor import colored as cl \n",
    "Total_transactions = len(data)\n",
    "normal = len(data[data.Class == 0])\n",
    "fraudulent = len(data[data.Class == 1])\n",
    "fraud_percentage = round(fraudulent/normal*100, 2)\n",
    "print(cl('Total number of Trnsactions are {}'.format(Total_transactions), attrs = ['bold']))\n",
    "print(cl('Number of Normal Transactions are {}'.format(normal), attrs = ['bold']))\n",
    "print(cl('Number of fraudulent Transactions are {}'.format(fraudulent), attrs = ['bold']))\n",
    "print(cl('Percentage of fraud Transactions is {}'.format(fraud_percentage), attrs = ['bold']))"
   ]
  },
  {
   "cell_type": "code",
   "execution_count": 48,
   "id": "e0387d3e",
   "metadata": {},
   "outputs": [
    {
     "data": {
      "text/plain": [
       "0"
      ]
     },
     "execution_count": 48,
     "metadata": {},
     "output_type": "execute_result"
    }
   ],
   "source": [
    "#checking for missing or null values in the data. So, that we can replace them if any.\n",
    "data.isnull().sum().sum()"
   ]
  },
  {
   "cell_type": "code",
   "execution_count": 49,
   "id": "955aaaca",
   "metadata": {},
   "outputs": [
    {
     "data": {
      "image/png": "[encoded data removed]",
      "text/plain": [
       "<Figure size 432x288 with 1 Axes>"
      ]
     },
     "metadata": {
      "needs_background": "light"
     },
     "output_type": "display_data"
    }
   ],
   "source": [
    "#from the bar plot we understand that data is so unbalnced with one class having high amount of data\n",
    "import matplotlib.pyplot as plt\n",
    "# Define the labels and corresponding counts\n",
    "labels = ['Non-Fraudulent', 'Fraudulent']\n",
    "counts = [len(data[data['Class'] == 0]), len(data[data['Class'] == 1])]\n",
    "# Plot the bar chart\n",
    "plt.bar(labels, counts)\n",
    "# Set the title and axis labels\n",
    "plt.title('Class Distribution')\n",
    "plt.xlabel('Class')\n",
    "plt.ylabel('Count')\n",
    "plt.show()\n"
   ]
  },
  {
   "cell_type": "code",
   "execution_count": 50,
   "id": "80058887",
   "metadata": {},
   "outputs": [
    {
     "data": {
      "image/png": "[encoded data removed]",
      "text/plain": [
       "<Figure size 864x864 with 2 Axes>"
      ]
     },
     "metadata": {
      "needs_background": "light"
     },
     "output_type": "display_data"
    }
   ],
   "source": [
    "# Correlation matrix\n",
    "import seaborn as sns\n",
    "corrmat = data.corr()\n",
    "fig = plt.figure(figsize = (12, 12))\n",
    "sns.heatmap(corrmat, vmax = .8, square = True, cmap='coolwarm')\n",
    "plt.show()\n"
   ]
  },
  {
   "cell_type": "code",
   "execution_count": 51,
   "id": "8e420e9d",
   "metadata": {},
   "outputs": [
    {
     "name": "stdout",
     "output_type": "stream",
     "text": [
      "Amount fields before applying Standard scaler:\n",
      " 0    149.62\n",
      "1      2.69\n",
      "2    378.66\n",
      "3    123.50\n",
      "4     69.99\n",
      "5      3.67\n",
      "6      4.99\n",
      "Name: Amount, dtype: float64\n",
      "Amount fields after applying Standard scaler:\n",
      " 0    0.244964\n",
      "1   -0.342475\n",
      "2    1.160686\n",
      "3    0.140534\n",
      "4   -0.073403\n",
      "5   -0.338556\n",
      "6   -0.333279\n",
      "Name: normalized_amount, dtype: float64\n"
     ]
    }
   ],
   "source": [
    "from sklearn.preprocessing import StandardScaler\n",
    "#Data Transformation\n",
    "print(\"Amount fields before applying Standard scaler:\\n\", data['Amount'][0:7])\n",
    "data['normalized_amount'] = StandardScaler().fit_transform(data['Amount'].values.reshape(-1, 1))\n",
    "data = data.drop(['Amount'], axis = 1)\n",
    "print(\"Amount fields after applying Standard scaler:\\n\", data['normalized_amount'][0:7])"
   ]
  },
  {
   "cell_type": "code",
   "execution_count": 52,
   "id": "d48456f5",
   "metadata": {},
   "outputs": [],
   "source": [
    "data = data.drop(['Time'], axis = 1)"
   ]
  },
  {
   "cell_type": "code",
   "execution_count": 53,
   "id": "84978cb6",
   "metadata": {},
   "outputs": [],
   "source": [
    "X = data.drop(['Class'], axis = 1).values\n",
    "y = data['Class'].values"
   ]
  },
  {
   "cell_type": "code",
   "execution_count": 54,
   "id": "111b6e11",
   "metadata": {},
   "outputs": [
    {
     "data": {
      "text/plain": [
       "(284807, 29)"
      ]
     },
     "execution_count": 54,
     "metadata": {},
     "output_type": "execute_result"
    }
   ],
   "source": [
    "X.shape"
   ]
  },
  {
   "cell_type": "code",
   "execution_count": 55,
   "id": "eb360d48",
   "metadata": {},
   "outputs": [
    {
     "data": {
      "text/plain": [
       "(284807,)"
      ]
     },
     "execution_count": 55,
     "metadata": {},
     "output_type": "execute_result"
    }
   ],
   "source": [
    "y.shape"
   ]
  },
  {
   "cell_type": "code",
   "execution_count": 56,
   "id": "f55edb0b",
   "metadata": {},
   "outputs": [],
   "source": [
    "from sklearn.model_selection import train_test_split\n",
    "X_train, X_test, y_train, y_test = train_test_split(X, y, test_size = 0.25, random_state = 0)"
   ]
  },
  {
   "cell_type": "code",
   "execution_count": 57,
   "id": "b5e1bb82",
   "metadata": {},
   "outputs": [
    {
     "name": "stdout",
     "output_type": "stream",
     "text": [
      "Build Model DecisionTree\n",
      "Accuracy:\n",
      " 0.9991292379427544\n",
      "Confusion matrix:\n",
      " [[71050    32]\n",
      " [   30    90]]\n",
      "Classification report:\n",
      "               precision    recall  f1-score   support\n",
      "\n",
      "           0       1.00      1.00      1.00     71082\n",
      "           1       0.74      0.75      0.74       120\n",
      "\n",
      "    accuracy                           1.00     71202\n",
      "   macro avg       0.87      0.87      0.87     71202\n",
      "weighted avg       1.00      1.00      1.00     71202\n",
      "\n",
      "F1 score:\n",
      " 0.743801652892562\n",
      "Recall:\n",
      " 0.75\n",
      "AUC score:\n",
      " 0.8747749078529024\n"
     ]
    }
   ],
   "source": [
    "from sklearn.tree import DecisionTreeClassifier\n",
    "from sklearn.metrics import roc_auc_score\n",
    "from sklearn.metrics import accuracy_score, confusion_matrix, classification_report, f1_score, roc_auc_score, recall_score\n",
    "#Build the model using Decision tree Classifier\n",
    "print(\"Build Model DecisionTree\")\n",
    "decision_tree_classifier = DecisionTreeClassifier()\n",
    "#Training the model based on training data\n",
    "decision_tree_classifier.fit(X_train, y_train.ravel())\n",
    "#Calculating Evaluation metrics\n",
    "accuracy = decision_tree_classifier.score(X_test, y_test)\n",
    "y_pred = decision_tree_classifier.predict(X_test)\n",
    "confusion_mat = confusion_matrix(y_test, y_pred)\n",
    "Classification_Report = classification_report(y_test, y_pred)\n",
    "AUC = roc_auc_score(y_test, y_pred)\n",
    "f1 = f1_score(y_test, y_pred)\n",
    "recall = recall_score(y_test, y_pred)\n",
    "# Print the results\n",
    "print('Accuracy:\\n', accuracy)\n",
    "print('Confusion matrix:\\n', confusion_mat)\n",
    "print('Classification report:\\n', Classification_Report)\n",
    "print('F1 score:\\n', f1)\n",
    "print('Recall:\\n', recall)\n",
    "print('AUC score:\\n', AUC)"
   ]
  },
  {
   "cell_type": "code",
   "execution_count": 58,
   "id": "9767679d",
   "metadata": {},
   "outputs": [
    {
     "name": "stdout",
     "output_type": "stream",
     "text": [
      "Build Model SVM\n",
      "Accuracy:\n",
      " 0.9993539507317211\n",
      "Confusion matrix:\n",
      " [[71076     6]\n",
      " [   40    80]]\n",
      "F1 score:\n",
      " 0.7766990291262136\n",
      "Recall:\n",
      " 0.6666666666666666\n",
      "Classification report:\n",
      "               precision    recall  f1-score   support\n",
      "\n",
      "           0       1.00      1.00      1.00     71082\n",
      "           1       0.93      0.67      0.78       120\n",
      "\n",
      "    accuracy                           1.00     71202\n",
      "   macro avg       0.96      0.83      0.89     71202\n",
      "weighted avg       1.00      1.00      1.00     71202\n",
      "\n",
      "AUC score:\n",
      " 0.8332911285557524\n"
     ]
    }
   ],
   "source": [
    "print(\"Build Model SVM\")\n",
    "from sklearn import svm\n",
    "svm_classifier = svm.SVC()\n",
    "svm_classifier.fit(X_train, y_train.ravel())\n",
    "accuracy = svm_classifier.score(X_test, y_test)\n",
    "y_pred = svm_classifier.predict(X_test)\n",
    "confusion_mat = confusion_matrix(y_test, y_pred)\n",
    "Classification_Report = classification_report(y_test, y_pred, zero_division=1)\n",
    "AUC = roc_auc_score(y_test, y_pred)\n",
    "f1 = f1_score(y_test, y_pred)\n",
    "recall = recall_score(y_test, y_pred)\n",
    "# Print the results\n",
    "print('Accuracy:\\n', accuracy)\n",
    "print('Confusion matrix:\\n', confusion_mat)\n",
    "print('F1 score:\\n', f1)\n",
    "print('Recall:\\n', recall)\n",
    "print('Classification report:\\n', Classification_Report)\n",
    "print('AUC score:\\n', AUC)"
   ]
  },
  {
   "cell_type": "code",
   "execution_count": 59,
   "id": "ad0181ff",
   "metadata": {},
   "outputs": [
    {
     "name": "stdout",
     "output_type": "stream",
     "text": [
      "Build Model RandomForestClassifier\n",
      "Accuracy:\n",
      " 0.9995084407741356\n",
      "Confusion matrix:\n",
      " [[71075     7]\n",
      " [   28    92]]\n",
      "Classification report:\n",
      "               precision    recall  f1-score   support\n",
      "\n",
      "           0       1.00      1.00      1.00     71082\n",
      "           1       0.93      0.77      0.84       120\n",
      "\n",
      "    accuracy                           1.00     71202\n",
      "   macro avg       0.96      0.88      0.92     71202\n",
      "weighted avg       1.00      1.00      1.00     71202\n",
      "\n",
      "F1 score:\n",
      " 0.8401826484018264\n",
      "Recall:\n",
      " 0.7666666666666667\n",
      "AUC score:\n",
      " 0.8832840944261557\n"
     ]
    }
   ],
   "source": [
    "print(\"Build Model RandomForestClassifier\")\n",
    "from sklearn.ensemble import RandomForestClassifier\n",
    "random_forest_classifier = RandomForestClassifier(n_estimators = 50)\n",
    "random_forest_classifier.fit(X_train, y_train.ravel())\n",
    "accuracy = random_forest_classifier.score(X_test, y_test)\n",
    "y_pred = random_forest_classifier.predict(X_test)\n",
    "confusion_mat = confusion_matrix(y_test, y_pred)\n",
    "Classification_Report = classification_report(y_test, y_pred, zero_division=1)\n",
    "AUC = roc_auc_score(y_test, y_pred)\n",
    "f1 = f1_score(y_test, y_pred)\n",
    "recall = recall_score(y_test, y_pred)\n",
    "# Print the results\n",
    "print('Accuracy:\\n', accuracy)\n",
    "print('Confusion matrix:\\n', confusion_mat)\n",
    "print('Classification report:\\n', Classification_Report)\n",
    "print('F1 score:\\n', f1)\n",
    "print('Recall:\\n', recall)\n",
    "print('AUC score:\\n', AUC)"
   ]
  },
  {
   "cell_type": "code",
   "execution_count": 60,
   "id": "8ae3c420",
   "metadata": {
    "scrolled": true
   },
   "outputs": [
    {
     "name": "stdout",
     "output_type": "stream",
     "text": [
      "Build Model KNeighborsClassifier\n",
      "Accuracy:\n",
      " 0.9994663071262043\n",
      "Confusion matrix:\n",
      " [[71074     8]\n",
      " [   30    90]]\n",
      "Classification report:\n",
      "               precision    recall  f1-score   support\n",
      "\n",
      "           0       1.00      1.00      1.00     71082\n",
      "           1       0.92      0.75      0.83       120\n",
      "\n",
      "    accuracy                           1.00     71202\n",
      "   macro avg       0.96      0.87      0.91     71202\n",
      "weighted avg       1.00      1.00      1.00     71202\n",
      "\n",
      "F1 score:\n",
      " 0.8256880733944955\n",
      "Recall:\n",
      " 0.75\n",
      "AUC score:\n",
      " 0.8749437269632255\n"
     ]
    }
   ],
   "source": [
    "print(\"Build Model KNeighborsClassifier\")\n",
    "from sklearn.neighbors import KNeighborsClassifier\n",
    "knn_classifier = KNeighborsClassifier(n_neighbors=7)\n",
    "knn_classifier.fit(X_train, y_train.ravel())\n",
    "accuracy = knn_classifier.score(X_test, y_test)\n",
    "y_pred = knn_classifier.predict(X_test)\n",
    "confusion_mat = confusion_matrix(y_test, y_pred)\n",
    "Classification_Report = classification_report(y_test, y_pred, zero_division=1)\n",
    "AUC = roc_auc_score(y_test, y_pred)\n",
    "f1 = f1_score(y_test, y_pred)\n",
    "recall = recall_score(y_test, y_pred)\n",
    "# Print the results\n",
    "print('Accuracy:\\n', accuracy)\n",
    "print('Confusion matrix:\\n', confusion_mat)\n",
    "print('Classification report:\\n', Classification_Report)\n",
    "print('F1 score:\\n', f1)\n",
    "print('Recall:\\n', recall)\n",
    "print('AUC score:\\n', AUC)"
   ]
  },
  {
   "cell_type": "code",
   "execution_count": 61,
   "id": "60b87b22",
   "metadata": {},
   "outputs": [
    {
     "name": "stdout",
     "output_type": "stream",
     "text": [
      "Build Model Naive Bayes Classifier\n",
      "Accuracy:\n",
      " 0.9783994831605853\n",
      "Confusion matrix:\n",
      " [[69564  1518]\n",
      " [   20   100]]\n",
      "Classification report:\n",
      "               precision    recall  f1-score   support\n",
      "\n",
      "           0       1.00      0.98      0.99     71082\n",
      "           1       0.06      0.83      0.12       120\n",
      "\n",
      "    accuracy                           0.98     71202\n",
      "   macro avg       0.53      0.91      0.55     71202\n",
      "weighted avg       1.00      0.98      0.99     71202\n",
      "\n",
      "F1 score:\n",
      " 0.11507479861910241\n",
      "Recall:\n",
      " 0.8333333333333334\n",
      "AUC score:\n",
      " 0.9059888579387188\n"
     ]
    }
   ],
   "source": [
    "print(\"Build Model Naive Bayes Classifier\")\n",
    "from sklearn.naive_bayes import GaussianNB\n",
    "naive_bayes_classifier = GaussianNB()\n",
    "naive_bayes_classifier.fit(X_train, y_train.ravel())\n",
    "naive_bayes_classifier.fit(X_train, y_train.ravel())\n",
    "accuracy = naive_bayes_classifier.score(X_test, y_test)\n",
    "y_pred = naive_bayes_classifier.predict(X_test)\n",
    "confusion_mat = confusion_matrix(y_test, y_pred)\n",
    "Classification_Report = classification_report(y_test, y_pred, zero_division=1)\n",
    "AUC = roc_auc_score(y_test, y_pred)\n",
    "# Print the results\n",
    "f1 = f1_score(y_test, y_pred)\n",
    "recall = recall_score(y_test, y_pred)\n",
    "# Print the results\n",
    "print('Accuracy:\\n', accuracy)\n",
    "print('Confusion matrix:\\n', confusion_mat)\n",
    "print('Classification report:\\n', Classification_Report)\n",
    "print('F1 score:\\n', f1)\n",
    "print('Recall:\\n', recall)\n",
    "print('AUC score:\\n', AUC)"
   ]
  },
  {
   "cell_type": "markdown",
   "id": "5e87be59",
   "metadata": {},
   "source": [
    "# print(\"Build Model Naive  \")\n",
    "from sklearn.linear_model import LogisticRegression\n",
    "logistic_regression_classifier = LogisticRegression()\n",
    "logistic_regression_classifier.fit(X_train, y_train.ravel())\n",
    "logistic_regression_classifier.fit(X_train, y_train.ravel())\n",
    "logistic_regression_classifier.fit(X_train, y_train.ravel())\n",
    "accuracy = logistic_regression_classifier.score(X_test, y_test)\n",
    "y_pred = logistic_regression_classifier.predict(X_test)\n",
    "confusion_mat = confusion_matrix(y_test, y_pred)\n",
    "Classification_Report = classification_report(y_test, y_pred, zero_division=1)\n",
    "aroc = roc_auc_score(y_test, y_pred)\n",
    "# Print the results\n",
    "print('Accuracy:\\n', accuracy)\n",
    "print('Confusion matrix:\\n', confusion_mat)\n",
    "print('Classification report:\\n', Classification_Report)\n",
    "print('AROC score:\\n', aroc)"
   ]
  },
  {
   "cell_type": "code",
   "execution_count": 62,
   "id": "81c02413",
   "metadata": {},
   "outputs": [],
   "source": [
    "#pip install xgboost"
   ]
  },
  {
   "cell_type": "code",
   "execution_count": 63,
   "id": "ea049653",
   "metadata": {},
   "outputs": [
    {
     "name": "stdout",
     "output_type": "stream",
     "text": [
      "Build Model XGBClassifier\n",
      "Accuracy:\n",
      " 0.9995786635206876\n",
      "Confusion matrix:\n",
      " [[71075     7]\n",
      " [   23    97]]\n",
      "Classification report:\n",
      "               precision    recall  f1-score   support\n",
      "\n",
      "           0       1.00      1.00      1.00     71082\n",
      "           1       0.93      0.81      0.87       120\n",
      "\n",
      "    accuracy                           1.00     71202\n",
      "   macro avg       0.97      0.90      0.93     71202\n",
      "weighted avg       1.00      1.00      1.00     71202\n",
      "\n",
      "F1 score:\n",
      " 0.8660714285714286\n",
      "Recall:\n",
      " 0.8083333333333333\n",
      "AUC score:\n",
      " 0.9059888579387188\n"
     ]
    }
   ],
   "source": [
    "print(\"Build Model XGBClassifier\")\n",
    "from xgboost import XGBClassifier\n",
    "xgb = XGBClassifier(max_depth = 4)\n",
    "xgb.fit(X_train, y_train.ravel())\n",
    "xgb.fit(X_train, y_train.ravel())\n",
    "xgb.fit(X_train, y_train.ravel())\n",
    "accuracy = xgb.score(X_test, y_test)\n",
    "y_pred = xgb.predict(X_test)\n",
    "confusion_mat = confusion_matrix(y_test, y_pred)\n",
    "Classification_Report = classification_report(y_test, y_pred, zero_division=1)\n",
    "aroc = roc_auc_score(y_test, y_pred)\n",
    "# Print the results\n",
    "f1 = f1_score(y_test, y_pred)\n",
    "recall = recall_score(y_test, y_pred)\n",
    "# Print the results\n",
    "print('Accuracy:\\n', accuracy)\n",
    "print('Confusion matrix:\\n', confusion_mat)\n",
    "print('Classification report:\\n', Classification_Report)\n",
    "print('F1 score:\\n', f1)\n",
    "print('Recall:\\n', recall)\n",
    "print('AUC score:\\n', AUC)"
   ]
  },
  {
   "cell_type": "markdown",
   "id": "df3b7bbe",
   "metadata": {},
   "source": [
    "# Balancing the data\n",
    "from imblearn.under_sampling import RandomUnderSampler\n",
    "# Setting Parameters\n",
    "rus = RandomUnderSampler()\n",
    "X_rus, y_rus = rus.fit_resample(X_train, y_train)\n",
    "# Check class balancing\n",
    "print(pd.Series(y_rus).value_counts())\n",
    "# Plot the new Class distribution\n",
    "sns.countplot(y_rus);"
   ]
  },
  {
   "cell_type": "markdown",
   "id": "adf071a6",
   "metadata": {},
   "source": [
    "from sklearn.tree import DecisionTreeClassifier\n",
    "from sklearn.metrics import roc_auc_score\n",
    "from sklearn.metrics import accuracy_score, confusion_matrix, classification_report, f1_score, roc_auc_score\n",
    "#Build the model using Decision tree Classifier\n",
    "#Training the model based on training data\n",
    "print(\"Build Model DecisionTree\")\n",
    "decision_tree_classifier = DecisionTreeClassifier()\n",
    "decision_tree_classifier.fit(X_rus, y_rus)\n",
    "accuracy = decision_tree_classifier.score(X_test, y_test)\n",
    "y_pred = decision_tree_classifier.predict(X_test)\n",
    "confusion_mat = confusion_matrix(y_test, y_pred)\n",
    "Classification_Report = classification_report(y_test, y_pred)\n",
    "AUC = roc_auc_score(y_test, y_pred)\n",
    "f1 = f1_score(y_test, y_pred)\n",
    "# Print the results\n",
    "print('Accuracy:\\n', accuracy)\n",
    "print('Confusion matrix:\\n', confusion_mat)\n",
    "print('Classification report:\\n', Classification_Report)\n",
    "print('F1 score:\\n', f1)\n",
    "print('AUC score:\\n', AUC)"
   ]
  },
  {
   "cell_type": "code",
   "execution_count": 64,
   "id": "7af1fb0a",
   "metadata": {},
   "outputs": [
    {
     "name": "stdout",
     "output_type": "stream",
     "text": [
      "Non-fraudulent Transactions:  284315\n",
      "fraudulent Transactions:  492\n"
     ]
    }
   ],
   "source": [
    "class_value = data['Class'].value_counts()\n",
    "# Get the values for each class\n",
    "non_fraud_transactions = class_value[0]\n",
    "fraud_transactions = class_value[1]\n",
    "\n",
    "# Print\n",
    "print(\"Non-fraudulent Transactions: \", non_fraud_transactions)\n",
    "print(\"fraudulent Transactions: \", fraud_transactions)"
   ]
  },
  {
   "cell_type": "code",
   "execution_count": 65,
   "id": "7e5e05e5",
   "metadata": {},
   "outputs": [],
   "source": [
    "#Perform RANDOM UNDER SAMPLING\n",
    "fraud_indices = np.array(data[data['Class'] == 1].index)\n",
    "non_fraud_indices = data[data['Class'] == 0].index\n",
    "random_non_fraud_indices = np.random.choice(non_fraud_indices, size=fraud_transactions, replace = False)\n",
    "random_non_fraud_indices = np.array(random_non_fraud_indices)"
   ]
  },
  {
   "cell_type": "code",
   "execution_count": 66,
   "id": "0848efa3",
   "metadata": {},
   "outputs": [],
   "source": [
    "# Get indices of fraudulent and non-fraudulent samples\n",
    "fraud_indices = np.array(data[data['Class'] == 1].index)\n",
    "non_fraud_indices = data[data['Class'] == 0].index\n",
    "\n",
    "# Get a random sample of non-fraudulent samples\n",
    "# The size of the random sample should be equal to the number of fraudulent samples\n",
    "random_non_fraud_indices = np.random.choice(non_fraud_indices, size=fraud_transactions, replace=False)\n",
    "\n",
    "# Convert the random sample to a numpy array\n",
    "random_non_fraud_indices = np.array(random_non_fraud_indices)\n"
   ]
  },
  {
   "cell_type": "code",
   "execution_count": 67,
   "id": "bf9b3579",
   "metadata": {},
   "outputs": [
    {
     "data": {
      "image/png": "[encoded data removed]",
      "text/plain": [
       "<Figure size 432x288 with 1 Axes>"
      ]
     },
     "metadata": {
      "needs_background": "light"
     },
     "output_type": "display_data"
    }
   ],
   "source": [
    "#Concatenate the both indices of fraud and non fraud\n",
    "under_sample_indices = np.concatenate([fraud_indices, random_non_fraud_indices])\n",
    "\n",
    "#Extracting all the features from whole data for under sample indices only\n",
    "under_sample_data = data.iloc[under_sample_indices, :]\n",
    "\n",
    "#Now, we have to divide the under sampling data to all features and target\n",
    "X_random_under_sample = under_sample_data.drop(['Class'], axis = 1)\n",
    "y_random_under_sample = under_sample_data[['Class']]\n",
    "\n",
    "# Create a bar plot to show the distribution of samples\n",
    "class_value = y_random_under_sample['Class'].value_counts()\n",
    "fraud_value = class_value[1]\n",
    "non_fraud_value = class_value[0]\n",
    "\n",
    "labels = ['Fraudulent', 'Non-Fraudulent']\n",
    "values = [fraud_value, non_fraud_value]\n",
    "\n",
    "\n",
    "plt.bar(labels, values, color=['red', 'blue'])\n",
    "plt.title('Distribution of Samples in the Balanced Dataset')\n",
    "plt.xlabel('Class')\n",
    "plt.ylabel('Number of Samples')\n",
    "plt.show()"
   ]
  },
  {
   "cell_type": "code",
   "execution_count": 68,
   "id": "7ebe31ee",
   "metadata": {},
   "outputs": [],
   "source": [
    "#Now, we have to split the dataset to train and test datasets like before\n",
    "X_train_rus, X_test_rus, y_train_rus, y_test_rus = train_test_split(X_random_under_sample, y_random_under_sample, test_size = 0.25, random_state = 0)"
   ]
  },
  {
   "cell_type": "code",
   "execution_count": 69,
   "id": "0b023362",
   "metadata": {},
   "outputs": [],
   "source": [
    "import warnings\n",
    "from sklearn.exceptions import DataConversionWarning\n",
    "warnings.filterwarnings(action='ignore', category=DataConversionWarning)"
   ]
  },
  {
   "cell_type": "code",
   "execution_count": 70,
   "id": "19e32034",
   "metadata": {},
   "outputs": [
    {
     "name": "stdout",
     "output_type": "stream",
     "text": [
      "Build Model DecisionTree\n",
      "Accuracy:\n",
      " 0.8902439024390244\n",
      "Confusion matrix:\n",
      " [[110  17]\n",
      " [ 10 109]]\n",
      "Classification report:\n",
      "               precision    recall  f1-score   support\n",
      "\n",
      "           0       0.92      0.87      0.89       127\n",
      "           1       0.87      0.92      0.89       119\n",
      "\n",
      "    accuracy                           0.89       246\n",
      "   macro avg       0.89      0.89      0.89       246\n",
      "weighted avg       0.89      0.89      0.89       246\n",
      "\n",
      "F1 score:\n",
      " 0.889795918367347\n",
      "Recall:\n",
      " 0.9159663865546218\n",
      "AUC score:\n",
      " 0.8910540594190433\n"
     ]
    }
   ],
   "source": [
    "from sklearn.tree import DecisionTreeClassifier\n",
    "from sklearn.metrics import roc_auc_score\n",
    "from sklearn.metrics import accuracy_score, confusion_matrix, classification_report, f1_score, roc_auc_score\n",
    "#Build the model using Decision tree Classifier\n",
    "#Training the model based on training data\n",
    "print(\"Build Model DecisionTree\")\n",
    "decision_tree_classifier = DecisionTreeClassifier()\n",
    "decision_tree_classifier.fit(X_train_rus, y_train_rus)\n",
    "accuracy = decision_tree_classifier.score(X_test_rus, y_test_rus)\n",
    "y_pred = decision_tree_classifier.predict(X_test_rus)\n",
    "confusion_mat = confusion_matrix(y_test_rus, y_pred)\n",
    "Classification_Report = classification_report(y_test_rus, y_pred)\n",
    "AUC = roc_auc_score(y_test_rus, y_pred)\n",
    "f1 = f1_score(y_test_rus, y_pred)\n",
    "recall = recall_score(y_test_rus, y_pred)\n",
    "# Print the results\n",
    "print('Accuracy:\\n', accuracy)\n",
    "print('Confusion matrix:\\n', confusion_mat)\n",
    "print('Classification report:\\n', Classification_Report)\n",
    "print('F1 score:\\n', f1)\n",
    "print('Recall:\\n', recall)\n",
    "print('AUC score:\\n', AUC)"
   ]
  },
  {
   "cell_type": "code",
   "execution_count": 71,
   "id": "7bd7e0e1",
   "metadata": {},
   "outputs": [
    {
     "name": "stdout",
     "output_type": "stream",
     "text": [
      "Build Model SVM\n",
      "Accuracy:\n",
      " 0.9308943089430894\n",
      "Confusion matrix:\n",
      " [[123   4]\n",
      " [ 13 106]]\n",
      "Classification report:\n",
      "               precision    recall  f1-score   support\n",
      "\n",
      "           0       0.90      0.97      0.94       127\n",
      "           1       0.96      0.89      0.93       119\n",
      "\n",
      "    accuracy                           0.93       246\n",
      "   macro avg       0.93      0.93      0.93       246\n",
      "weighted avg       0.93      0.93      0.93       246\n",
      "\n",
      "F1 score:\n",
      " 0.9257641921397379\n",
      "Recall:\n",
      " 0.8907563025210085\n",
      "AUC score:\n",
      " 0.9296301197644412\n"
     ]
    }
   ],
   "source": [
    "#Build the model using Decision tree Classifier\n",
    "#Training the model based on training dat\n",
    "print(\"Build Model SVM\")\n",
    "from sklearn import svm\n",
    "svm_classifier = svm.SVC()\n",
    "svm_classifier.fit(X_train_rus, y_train_rus)\n",
    "accuracy = svm_classifier.score(X_test_rus, y_test_rus)\n",
    "y_pred = svm_classifier.predict(X_test_rus)\n",
    "confusion_mat = confusion_matrix(y_test_rus, y_pred)\n",
    "Classification_Report = classification_report(y_test_rus, y_pred, zero_division=1)\n",
    "AUC = roc_auc_score(y_test_rus, y_pred)\n",
    "f1 = f1_score(y_test_rus, y_pred)\n",
    "recall = recall_score(y_test_rus, y_pred)\n",
    "# Print the results\n",
    "print('Accuracy:\\n', accuracy)\n",
    "print('Confusion matrix:\\n', confusion_mat)\n",
    "print('Classification report:\\n', Classification_Report)\n",
    "print('F1 score:\\n', f1)\n",
    "print('Recall:\\n', recall)\n",
    "print('AUC score:\\n', AUC)"
   ]
  },
  {
   "cell_type": "code",
   "execution_count": 72,
   "id": "2f619cd2",
   "metadata": {},
   "outputs": [
    {
     "name": "stdout",
     "output_type": "stream",
     "text": [
      "Build Model RandomForestClassifier\n",
      "Accuracy:\n",
      " 0.943089430894309\n",
      "Confusion matrix:\n",
      " [[121   6]\n",
      " [  8 111]]\n",
      "Classification report:\n",
      "               precision    recall  f1-score   support\n",
      "\n",
      "           0       0.94      0.95      0.95       127\n",
      "           1       0.95      0.93      0.94       119\n",
      "\n",
      "    accuracy                           0.94       246\n",
      "   macro avg       0.94      0.94      0.94       246\n",
      "weighted avg       0.94      0.94      0.94       246\n",
      "\n",
      "F1 score:\n",
      " 0.9406779661016949\n",
      "Recall:\n",
      " 0.9327731092436975\n",
      "AUC score:\n",
      " 0.9427645073777542\n"
     ]
    }
   ],
   "source": [
    "#Build the model using Decision tree Classifier\n",
    "#Training the model based on training dat\n",
    "print(\"Build Model RandomForestClassifier\")\n",
    "from sklearn.ensemble import RandomForestClassifier\n",
    "random_forest_classifier = RandomForestClassifier(n_estimators = 50)\n",
    "random_forest_classifier.fit(X_train_rus, y_train_rus)\n",
    "accuracy = random_forest_classifier.score(X_test_rus, y_test_rus)\n",
    "y_pred = random_forest_classifier.predict(X_test_rus)\n",
    "confusion_mat = confusion_matrix(y_test_rus, y_pred)\n",
    "Classification_Report = classification_report(y_test_rus, y_pred)\n",
    "AUC = roc_auc_score(y_test_rus, y_pred)\n",
    "f1 = f1_score(y_test_rus, y_pred)\n",
    "recall = recall_score(y_test_rus, y_pred)\n",
    "# Print the results\n",
    "print('Accuracy:\\n', accuracy)\n",
    "print('Confusion matrix:\\n', confusion_mat)\n",
    "print('Classification report:\\n', Classification_Report)\n",
    "print('F1 score:\\n', f1)\n",
    "print('Recall:\\n', recall)\n",
    "print('AUC score:\\n', AUC)"
   ]
  },
  {
   "cell_type": "code",
   "execution_count": 73,
   "id": "0078cba8",
   "metadata": {},
   "outputs": [
    {
     "name": "stdout",
     "output_type": "stream",
     "text": [
      "Build Model KNeighborsClassifier\n",
      "Accuracy:\n",
      " 0.9308943089430894\n",
      "Confusion matrix:\n",
      " [[125   2]\n",
      " [ 15 104]]\n",
      "Classification report:\n",
      "               precision    recall  f1-score   support\n",
      "\n",
      "           0       0.89      0.98      0.94       127\n",
      "           1       0.98      0.87      0.92       119\n",
      "\n",
      "    accuracy                           0.93       246\n",
      "   macro avg       0.94      0.93      0.93       246\n",
      "weighted avg       0.94      0.93      0.93       246\n",
      "\n",
      "F1 score:\n",
      " 0.9244444444444444\n",
      "Recall:\n",
      " 0.8739495798319328\n",
      "AUC score:\n",
      " 0.9291007741679349\n"
     ]
    }
   ],
   "source": [
    "#Build the model using Decision tree Classifier\n",
    "#Training the model based on training dat\n",
    "print(\"Build Model KNeighborsClassifier\")\n",
    "from sklearn.neighbors import KNeighborsClassifier\n",
    "knn_classifier = KNeighborsClassifier(n_neighbors=7)\n",
    "knn_classifier.fit(X_train_rus, y_train_rus)\n",
    "accuracy = knn_classifier.score(X_test_rus, y_test_rus)\n",
    "y_pred = knn_classifier.predict(X_test_rus)\n",
    "confusion_mat = confusion_matrix(y_test_rus, y_pred)\n",
    "Classification_Report = classification_report(y_test_rus, y_pred)\n",
    "AUC = roc_auc_score(y_test_rus, y_pred)\n",
    "f1 = f1_score(y_test_rus, y_pred)\n",
    "recall = recall_score(y_test_rus, y_pred)\n",
    "# Print the results\n",
    "print('Accuracy:\\n', accuracy)\n",
    "print('Confusion matrix:\\n', confusion_mat)\n",
    "print('Classification report:\\n', Classification_Report)\n",
    "print('F1 score:\\n', f1)\n",
    "print('Recall:\\n', recall)\n",
    "print('AUC score:\\n', AUC)"
   ]
  },
  {
   "cell_type": "code",
   "execution_count": 74,
   "id": "d471f067",
   "metadata": {},
   "outputs": [
    {
     "name": "stdout",
     "output_type": "stream",
     "text": [
      "Build Model Naive Bayes Classifier\n",
      "Accuracy:\n",
      " 0.8902439024390244\n",
      "Confusion matrix:\n",
      " [[118   9]\n",
      " [ 18 101]]\n",
      "Classification report:\n",
      "               precision    recall  f1-score   support\n",
      "\n",
      "           0       0.87      0.93      0.90       127\n",
      "           1       0.92      0.85      0.88       119\n",
      "\n",
      "    accuracy                           0.89       246\n",
      "   macro avg       0.89      0.89      0.89       246\n",
      "weighted avg       0.89      0.89      0.89       246\n",
      "\n",
      "F1 score:\n",
      " 0.8820960698689957\n",
      "Recall:\n",
      " 0.8487394957983193\n",
      "AUC score:\n",
      " 0.8889366770330179\n"
     ]
    }
   ],
   "source": [
    "#Build the model using Decision tree Classifier\n",
    "#Training the model based on training dat\n",
    "print(\"Build Model Naive Bayes Classifier\")\n",
    "from sklearn.naive_bayes import GaussianNB\n",
    "naive_bayes_classifier = GaussianNB()\n",
    "naive_bayes_classifier.fit(X_train_rus, y_train_rus)\n",
    "accuracy = naive_bayes_classifier.score(X_test_rus, y_test_rus)\n",
    "y_pred = naive_bayes_classifier.predict(X_test_rus)\n",
    "confusion_mat = confusion_matrix(y_test_rus, y_pred)\n",
    "Classification_Report = classification_report(y_test_rus, y_pred)\n",
    "AUC = roc_auc_score(y_test_rus, y_pred)\n",
    "f1 = f1_score(y_test_rus, y_pred)\n",
    "recall = recall_score(y_test_rus, y_pred)\n",
    "# Print the results\n",
    "print('Accuracy:\\n', accuracy)\n",
    "print('Confusion matrix:\\n', confusion_mat)\n",
    "print('Classification report:\\n', Classification_Report)\n",
    "print('F1 score:\\n', f1)\n",
    "print('Recall:\\n', recall)\n",
    "print('AUC score:\\n', AUC)"
   ]
  },
  {
   "cell_type": "code",
   "execution_count": 75,
   "id": "a118124d",
   "metadata": {},
   "outputs": [
    {
     "name": "stdout",
     "output_type": "stream",
     "text": [
      "Build Model XGBClassifier\n",
      "Accuracy:\n",
      " 0.943089430894309\n",
      "Confusion matrix:\n",
      " [[120   7]\n",
      " [  7 112]]\n",
      "Classification report:\n",
      "               precision    recall  f1-score   support\n",
      "\n",
      "           0       0.94      0.94      0.94       127\n",
      "           1       0.94      0.94      0.94       119\n",
      "\n",
      "    accuracy                           0.94       246\n",
      "   macro avg       0.94      0.94      0.94       246\n",
      "weighted avg       0.94      0.94      0.94       246\n",
      "\n",
      "F1 score:\n",
      " 0.9411764705882353\n",
      "Recall:\n",
      " 0.9411764705882353\n",
      "AUC score:\n",
      " 0.9430291801760073\n"
     ]
    }
   ],
   "source": [
    "#Build the model using Decision tree Classifier\n",
    "#Training the model based on training dat\n",
    "print(\"Build Model XGBClassifier\")\n",
    "from xgboost import XGBClassifier\n",
    "xgb = XGBClassifier(max_depth = 4)\n",
    "xgb.fit(X_train_rus, y_train_rus)\n",
    "accuracy = xgb.score(X_test_rus, y_test_rus)\n",
    "y_pred = xgb.predict(X_test_rus)\n",
    "confusion_mat = confusion_matrix(y_test_rus, y_pred)\n",
    "Classification_Report = classification_report(y_test_rus, y_pred)\n",
    "AUC = roc_auc_score(y_test_rus, y_pred)\n",
    "f1 = f1_score(y_test_rus, y_pred)\n",
    "recall = recall_score(y_test_rus, y_pred)\n",
    "# Print the results\n",
    "print('Accuracy:\\n', accuracy)\n",
    "print('Confusion matrix:\\n', confusion_mat)\n",
    "print('Classification report:\\n', Classification_Report)\n",
    "print('F1 score:\\n', f1)\n",
    "print('Recall:\\n', recall)\n",
    "print('AUC score:\\n', AUC)"
   ]
  },
  {
   "cell_type": "code",
   "execution_count": 78,
   "id": "61591cde",
   "metadata": {},
   "outputs": [
    {
     "data": {
      "image/png": "[encoded data removed]",
      "text/plain": [
       "<Figure size 432x288 with 1 Axes>"
      ]
     },
     "metadata": {
      "needs_background": "light"
     },
     "output_type": "display_data"
    }
   ],
   "source": [
    "#Plot accuracy scores before and after RUS\n",
    "import numpy as np\n",
    "import matplotlib.pyplot as plt\n",
    "\n",
    "Accuracy = [99.91, 99.93, 99.95, 99.94, 97.83, 99.95]\n",
    "Accuracy_score_RUS =[92.27, 93.90, 95.52, 94.71, 91.86, 95.12]\n",
    "models = ['DecisionTree','SVM', 'RandomForest','KNN', 'NaiveBayes', 'XGBClassifier']\n",
    "\n",
    "bar_width = 0.35\n",
    "r1 = np.arange(len(Accuracy))\n",
    "r2 = [x + bar_width for x in r1]\n",
    "\n",
    "fig, ax = plt.subplots()\n",
    "ax.bar(r1, Accuracy, width=bar_width, label='Accuracy', color='blue')\n",
    "ax.bar(r2, Accuracy_score_RUS, width=bar_width, label='Accuracy_score_RUS', color='red')\n",
    "\n",
    "ax.set_xlabel('Data Mining Models')\n",
    "ax.set_ylabel('Accuracy')\n",
    "ax.set_title('Plot of Acuuracy scores')\n",
    "ax.set_xticks(r1+bar_width/2)\n",
    "ax.set_xticklabels(models)\n",
    "ax.legend()\n",
    "\n",
    "plt.show()\n",
    "\n"
   ]
  },
  {
   "cell_type": "code",
   "execution_count": 79,
   "id": "9548bc66",
   "metadata": {},
   "outputs": [
    {
     "data": {
      "image/png": "[encoded data removed]",
      "text/plain": [
       "<Figure size 432x288 with 1 Axes>"
      ]
     },
     "metadata": {
      "needs_background": "light"
     },
     "output_type": "display_data"
    }
   ],
   "source": [
    "#Plot AUC scores before and after RUS\n",
    "AUC_score = [87.89, 83.32, 88.74, 87.49, 90.5, 90.5]\n",
    "AUC_score_RUS =[92.28, 93.75, 95.43, 94.59, 91.6, 95]\n",
    "models = ['DecisionTree','SVM', 'RandomForest','KNN', 'NaiveBayes', 'XGBClassifier']\n",
    "\n",
    "bar_width = 0.35\n",
    "r1 = np.arange(len(AUC_score))\n",
    "r2 = [x + bar_width for x in r1]\n",
    "\n",
    "fig, ax = plt.subplots()\n",
    "ax.bar(r1, AUC_score, width=bar_width, label='AUC', color='blue')\n",
    "ax.bar(r2, AUC_score_RUS, width=bar_width, label='AUC_score_RUS', color='red')\n",
    "\n",
    "ax.set_xlabel('Data Mining Models')\n",
    "ax.set_ylabel('AUC')\n",
    "ax.set_title('Plot of AUC Scores')\n",
    "ax.set_xticks(r1+bar_width/2)\n",
    "ax.set_xticklabels(models)\n",
    "ax.legend()\n",
    "\n",
    "plt.show()"
   ]
  },
  {
   "cell_type": "code",
   "execution_count": null,
   "id": "80fec9ca",
   "metadata": {},
   "outputs": [],
   "source": []
  }
 ],
 "metadata": {
  "kernelspec": {
   "display_name": "Python 3 (ipykernel)",
   "language": "python",
   "name": "python3"
  },
  "language_info": {
   "codemirror_mode": {
    "name": "ipython",
    "version": 3
   },
   "file_extension": ".py",
   "mimetype": "text/x-python",
   "name": "python",
   "nbconvert_exporter": "python",
   "pygments_lexer": "ipython3",
   "version": "3.9.7"
  }
 },
 "nbformat": 4,
 "nbformat_minor": 5
}
